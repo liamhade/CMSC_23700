{
 "cells": [
  {
   "cell_type": "code",
   "execution_count": null,
   "metadata": {},
   "outputs": [],
   "source": [
    "from raster import *\n",
    "from utils import *"
   ]
  },
  {
   "cell_type": "code",
   "execution_count": null,
   "metadata": {},
   "outputs": [
    {
     "data": {
      "text/plain": [
       "((133.0, 98.0), (253.0, 188.0))"
      ]
     },
     "execution_count": 10,
     "metadata": {},
     "output_type": "execute_result"
    }
   ],
   "source": [
    "xs = list(map(lambda p: int(p[0]), t.pts)))\n",
    "ys = list(map(lambda p: int(p[1]), t.pts)))\n",
    "((min(xs), min(ys)), (max(xs), max(ys)))\n"
   ]
  },
  {
   "cell_type": "code",
   "execution_count": 2,
   "metadata": {},
   "outputs": [
    {
     "name": "stdout",
     "output_type": "stream",
     "text": [
      "[[193.609  98.891]\n",
      " [253.816 188.605]\n",
      " [133.401 188.605]\n",
      " [193.609  98.891]]\n",
      "253.816\n"
     ]
    }
   ],
   "source": [
    "svg = read_svg(\"tests/test1.svg\")\n",
    "t = svg[1]\n",
    "print(t.pts)\n",
    "# print(bounding_box(t))\n",
    "xs = map(lambda p: p[0], t.pts)\n",
    "print(max(list(xs)))"
   ]
  },
  {
   "cell_type": "code",
   "execution_count": 4,
   "metadata": {},
   "outputs": [
    {
     "name": "stdout",
     "output_type": "stream",
     "text": [
      "[133.401 188.605]\n",
      "[[193.609  98.891]\n",
      " [253.816 188.605]]\n"
     ]
    },
    {
     "data": {
      "text/plain": [
       "True"
      ]
     },
     "execution_count": 4,
     "metadata": {},
     "output_type": "execute_result"
    }
   ],
   "source": [
    "line = t.pts[0:2]\n",
    "print(p)\n",
    "print(line)\n",
    "~(p == line).all(axis=1).any()\n",
    "# A point is not in the array\n",
    "# An array is not contained in the list of arrays\n",
    "# ~(An array is contained in the list of arrays)\n",
    "# print(list(p) in list(line))"
   ]
  },
  {
   "cell_type": "code",
   "execution_count": 5,
   "metadata": {},
   "outputs": [
    {
     "ename": "NameError",
     "evalue": "name 'triangle_points' is not defined",
     "output_type": "error",
     "traceback": [
      "\u001b[1;31m---------------------------------------------------------------------------\u001b[0m",
      "\u001b[1;31mNameError\u001b[0m                                 Traceback (most recent call last)",
      "Cell \u001b[1;32mIn[5], line 1\u001b[0m\n\u001b[1;32m----> 1\u001b[0m \u001b[38;5;28mlist\u001b[39m(\u001b[38;5;28mfilter\u001b[39m(\u001b[38;5;28;01mlambda\u001b[39;00m p: \u001b[38;5;28mlist\u001b[39m(p) \u001b[38;5;129;01mnot\u001b[39;00m \u001b[38;5;129;01min\u001b[39;00m \u001b[38;5;28mlist\u001b[39m(line), \u001b[43mtriangle_points\u001b[49m))\n",
      "\u001b[1;31mNameError\u001b[0m: name 'triangle_points' is not defined"
     ]
    }
   ],
   "source": [
    "list(filter(lambda p: list(p) not in list(line), triangle_points))"
   ]
  },
  {
   "cell_type": "code",
   "execution_count": 8,
   "metadata": {},
   "outputs": [],
   "source": [
    "line = t.pts[0:2]\n",
    "triangle_points = t.pts\n",
    "\n",
    "p1, p2 = line\n",
    "for x, y in filter(lambda p: p not in line, triangle_points):\n",
    "\t# Triangle point is above the line region,\n",
    "\t# so our \"inside\" region will be above the line to.\n",
    "\tif line_y(p1, p2, x) < y:\n",
    "\t\tprint(\"a\")\n",
    "\t# \"Inside\" region is below the line.\n",
    "\telse:\n",
    "\t\tprint(\"b\")"
   ]
  },
  {
   "cell_type": "code",
   "execution_count": 10,
   "metadata": {},
   "outputs": [
    {
     "data": {
      "text/plain": [
       "0.0"
      ]
     },
     "execution_count": 10,
     "metadata": {},
     "output_type": "execute_result"
    }
   ],
   "source": [
    "get_triangle_coverage_for_pixel(t, 200, 189)"
   ]
  },
  {
   "cell_type": "code",
   "execution_count": 2,
   "metadata": {},
   "outputs": [
    {
     "data": {
      "text/plain": [
       "10.0"
      ]
     },
     "execution_count": 2,
     "metadata": {},
     "output_type": "execute_result"
    }
   ],
   "source": [
    "# Tests for line function\n",
    "line_y((0,0), (1,20), 0.5)"
   ]
  },
  {
   "cell_type": "code",
   "execution_count": 14,
   "metadata": {},
   "outputs": [
    {
     "name": "stdout",
     "output_type": "stream",
     "text": [
      "(133.401, 98.891) (253.816, 188.605)\n"
     ]
    }
   ],
   "source": [
    "xs = list(map(lambda p: p[0], t.pts))\n",
    "ys = list(map(lambda p: p[1], t.pts))\n",
    "print ( (min(xs), min(ys)), (max(xs), max(ys)) )\n",
    "    "
   ]
  },
  {
   "cell_type": "code",
   "execution_count": 2,
   "metadata": {},
   "outputs": [
    {
     "ename": "NameError",
     "evalue": "name 'triangle' is not defined",
     "output_type": "error",
     "traceback": [
      "\u001b[1;31m---------------------------------------------------------------------------\u001b[0m",
      "\u001b[1;31mNameError\u001b[0m                                 Traceback (most recent call last)",
      "Cell \u001b[1;32mIn[2], line 2\u001b[0m\n\u001b[0;32m      1\u001b[0m \u001b[38;5;66;03m# Tests for seeing if a point is in a triangle\u001b[39;00m\n\u001b[1;32m----> 2\u001b[0m check_if_point_in_triangle(\u001b[43mtriangle\u001b[49m, \u001b[38;5;241m2\u001b[39m, \u001b[38;5;241m4\u001b[39m)\n",
      "\u001b[1;31mNameError\u001b[0m: name 'triangle' is not defined"
     ]
    }
   ],
   "source": [
    "# Tests for seeing if a point is in a triangle\n",
    "check_if_point_in_triangle(triangle, 2, 4)"
   ]
  },
  {
   "cell_type": "code",
   "execution_count": null,
   "metadata": {},
   "outputs": [
    {
     "data": {
      "text/plain": [
       "[(2, 7), (1, 1)]"
      ]
     },
     "execution_count": 5,
     "metadata": {},
     "output_type": "execute_result"
    }
   ],
   "source": [
    "triangle[2:2+2]"
   ]
  },
  {
   "cell_type": "code",
   "execution_count": null,
   "metadata": {},
   "outputs": [],
   "source": [
    "import numpy as np"
   ]
  }
 ],
 "metadata": {
  "kernelspec": {
   "display_name": "base",
   "language": "python",
   "name": "python3"
  },
  "language_info": {
   "codemirror_mode": {
    "name": "ipython",
    "version": 3
   },
   "file_extension": ".py",
   "mimetype": "text/x-python",
   "name": "python",
   "nbconvert_exporter": "python",
   "pygments_lexer": "ipython3",
   "version": "3.9.19"
  }
 },
 "nbformat": 4,
 "nbformat_minor": 2
}
